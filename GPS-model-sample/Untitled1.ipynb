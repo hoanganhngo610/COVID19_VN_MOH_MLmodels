{
 "cells": [
  {
   "cell_type": "code",
   "execution_count": 1,
   "metadata": {},
   "outputs": [],
   "source": [
    "import numpy as np\n",
    "import pandas as pd"
   ]
  },
  {
   "cell_type": "code",
   "execution_count": 2,
   "metadata": {},
   "outputs": [],
   "source": [
    "df = pd.read_csv('./finished_data.csv')"
   ]
  },
  {
   "cell_type": "code",
   "execution_count": 19,
   "metadata": {},
   "outputs": [
    {
     "data": {
      "text/plain": [
       "0              0.0\n",
       "1              1.0\n",
       "2              2.0\n",
       "3              3.0\n",
       "4              4.0\n",
       "5              5.0\n",
       "6              6.0\n",
       "7              7.0\n",
       "8              8.0\n",
       "9              9.0\n",
       "10            10.0\n",
       "11            11.0\n",
       "12            12.0\n",
       "13            13.0\n",
       "14            14.0\n",
       "15            15.0\n",
       "16            16.0\n",
       "17            17.0\n",
       "18            18.0\n",
       "19            19.0\n",
       "20            20.0\n",
       "21            21.0\n",
       "22            22.0\n",
       "23            23.0\n",
       "24            24.0\n",
       "25            25.0\n",
       "26            26.0\n",
       "27            27.0\n",
       "28            28.0\n",
       "29            29.0\n",
       "            ...   \n",
       "249970    249970.0\n",
       "249971    249971.0\n",
       "249972    249964.0\n",
       "249973    249973.0\n",
       "249974    249974.0\n",
       "249975    249975.0\n",
       "249976    249976.0\n",
       "249977    249977.0\n",
       "249978    249978.0\n",
       "249979    249979.0\n",
       "249980    249980.0\n",
       "249981    249981.0\n",
       "249982    249971.0\n",
       "249983    249983.0\n",
       "249984    249945.0\n",
       "249985    249947.0\n",
       "249986    249986.0\n",
       "249987    249987.0\n",
       "249988    249988.0\n",
       "249989    249989.0\n",
       "249990    249974.0\n",
       "249991    249991.0\n",
       "249992    249992.0\n",
       "249993    249993.0\n",
       "249994    249994.0\n",
       "249995    249995.0\n",
       "249996    249996.0\n",
       "249997    249997.0\n",
       "249998    249998.0\n",
       "249999    249999.0\n",
       "Name: cluster, Length: 250000, dtype: float64"
      ]
     },
     "execution_count": 19,
     "metadata": {},
     "output_type": "execute_result"
    }
   ],
   "source": [
    "df['cluster']"
   ]
  },
  {
   "cell_type": "code",
   "execution_count": 6,
   "metadata": {},
   "outputs": [
    {
     "ename": "TypeError",
     "evalue": "count() got an unexpected keyword argument 'axis'",
     "output_type": "error",
     "traceback": [
      "\u001b[0;31m---------------------------------------------------------------------------\u001b[0m",
      "\u001b[0;31mTypeError\u001b[0m                                 Traceback (most recent call last)",
      "\u001b[0;32m<ipython-input-6-e621d86bac3b>\u001b[0m in \u001b[0;36m<module>\u001b[0;34m\u001b[0m\n\u001b[0;32m----> 1\u001b[0;31m \u001b[0mdf\u001b[0m\u001b[0;34m[\u001b[0m\u001b[0;34m'cluster'\u001b[0m\u001b[0;34m]\u001b[0m\u001b[0;34m.\u001b[0m\u001b[0mcount\u001b[0m\u001b[0;34m(\u001b[0m\u001b[0maxis\u001b[0m \u001b[0;34m=\u001b[0m \u001b[0;36m1\u001b[0m\u001b[0;34m)\u001b[0m\u001b[0;34m\u001b[0m\u001b[0;34m\u001b[0m\u001b[0m\n\u001b[0m",
      "\u001b[0;31mTypeError\u001b[0m: count() got an unexpected keyword argument 'axis'"
     ]
    }
   ],
   "source": [
    "df['cluster'].count(axis = 1)"
   ]
  },
  {
   "cell_type": "code",
   "execution_count": 7,
   "metadata": {},
   "outputs": [],
   "source": [
    "from collections import Counter"
   ]
  },
  {
   "cell_type": "code",
   "execution_count": 16,
   "metadata": {},
   "outputs": [
    {
     "data": {
      "text/plain": [
       "249999.0"
      ]
     },
     "execution_count": 16,
     "metadata": {},
     "output_type": "execute_result"
    }
   ],
   "source": [
    "max(df['cluster'])"
   ]
  },
  {
   "cell_type": "code",
   "execution_count": null,
   "metadata": {},
   "outputs": [],
   "source": []
  }
 ],
 "metadata": {
  "kernelspec": {
   "display_name": "Python 3",
   "language": "python",
   "name": "python3"
  },
  "language_info": {
   "codemirror_mode": {
    "name": "ipython",
    "version": 3
   },
   "file_extension": ".py",
   "mimetype": "text/x-python",
   "name": "python",
   "nbconvert_exporter": "python",
   "pygments_lexer": "ipython3",
   "version": "3.7.3"
  }
 },
 "nbformat": 4,
 "nbformat_minor": 2
}
