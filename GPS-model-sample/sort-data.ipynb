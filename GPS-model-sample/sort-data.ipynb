{
 "cells": [
  {
   "cell_type": "code",
   "execution_count": 1,
   "metadata": {},
   "outputs": [],
   "source": [
    "import numpy as np\n",
    "import pandas as pd\n",
    "from matplotlib import pyplot as plt"
   ]
  },
  {
   "cell_type": "code",
   "execution_count": 9,
   "metadata": {},
   "outputs": [
    {
     "data": {
      "text/html": [
       "<div>\n",
       "<style scoped>\n",
       "    .dataframe tbody tr th:only-of-type {\n",
       "        vertical-align: middle;\n",
       "    }\n",
       "\n",
       "    .dataframe tbody tr th {\n",
       "        vertical-align: top;\n",
       "    }\n",
       "\n",
       "    .dataframe thead th {\n",
       "        text-align: right;\n",
       "    }\n",
       "</style>\n",
       "<table border=\"1\" class=\"dataframe\">\n",
       "  <thead>\n",
       "    <tr style=\"text-align: right;\">\n",
       "      <th></th>\n",
       "      <th>Unnamed: 0</th>\n",
       "      <th>event_id</th>\n",
       "      <th>device_id</th>\n",
       "      <th>timestamp</th>\n",
       "      <th>longitude</th>\n",
       "      <th>latitude</th>\n",
       "    </tr>\n",
       "  </thead>\n",
       "  <tbody>\n",
       "    <tr>\n",
       "      <th>0</th>\n",
       "      <td>1</td>\n",
       "      <td>2</td>\n",
       "      <td>-6401643145415154744</td>\n",
       "      <td>2016-05-01 00:54:12</td>\n",
       "      <td>103.65</td>\n",
       "      <td>30.97</td>\n",
       "    </tr>\n",
       "    <tr>\n",
       "      <th>1</th>\n",
       "      <td>2</td>\n",
       "      <td>3</td>\n",
       "      <td>-4833982096941402721</td>\n",
       "      <td>2016-05-01 00:08:05</td>\n",
       "      <td>106.60</td>\n",
       "      <td>29.70</td>\n",
       "    </tr>\n",
       "    <tr>\n",
       "      <th>2</th>\n",
       "      <td>3</td>\n",
       "      <td>4</td>\n",
       "      <td>-6815121365017318426</td>\n",
       "      <td>2016-05-01 00:06:40</td>\n",
       "      <td>104.27</td>\n",
       "      <td>23.28</td>\n",
       "    </tr>\n",
       "    <tr>\n",
       "      <th>3</th>\n",
       "      <td>4</td>\n",
       "      <td>5</td>\n",
       "      <td>-5373797595892518570</td>\n",
       "      <td>2016-05-01 00:07:18</td>\n",
       "      <td>115.88</td>\n",
       "      <td>28.66</td>\n",
       "    </tr>\n",
       "    <tr>\n",
       "      <th>4</th>\n",
       "      <td>6</td>\n",
       "      <td>7</td>\n",
       "      <td>5990807147117726237</td>\n",
       "      <td>2016-05-01 00:15:13</td>\n",
       "      <td>113.73</td>\n",
       "      <td>23.00</td>\n",
       "    </tr>\n",
       "    <tr>\n",
       "      <th>...</th>\n",
       "      <td>...</td>\n",
       "      <td>...</td>\n",
       "      <td>...</td>\n",
       "      <td>...</td>\n",
       "      <td>...</td>\n",
       "      <td>...</td>\n",
       "    </tr>\n",
       "    <tr>\n",
       "      <th>249995</th>\n",
       "      <td>369338</td>\n",
       "      <td>369339</td>\n",
       "      <td>-7683978150618390285</td>\n",
       "      <td>2016-05-05 23:09:37</td>\n",
       "      <td>114.21</td>\n",
       "      <td>30.67</td>\n",
       "    </tr>\n",
       "    <tr>\n",
       "      <th>249996</th>\n",
       "      <td>369339</td>\n",
       "      <td>369340</td>\n",
       "      <td>-7387945516430081335</td>\n",
       "      <td>2016-05-05 23:48:34</td>\n",
       "      <td>113.44</td>\n",
       "      <td>34.67</td>\n",
       "    </tr>\n",
       "    <tr>\n",
       "      <th>249997</th>\n",
       "      <td>369340</td>\n",
       "      <td>369341</td>\n",
       "      <td>-3969281659360747781</td>\n",
       "      <td>2016-05-05 23:45:51</td>\n",
       "      <td>122.99</td>\n",
       "      <td>41.12</td>\n",
       "    </tr>\n",
       "    <tr>\n",
       "      <th>249998</th>\n",
       "      <td>369342</td>\n",
       "      <td>369343</td>\n",
       "      <td>-189903359027977027</td>\n",
       "      <td>2016-05-05 23:21:54</td>\n",
       "      <td>116.29</td>\n",
       "      <td>23.29</td>\n",
       "    </tr>\n",
       "    <tr>\n",
       "      <th>249999</th>\n",
       "      <td>369343</td>\n",
       "      <td>369344</td>\n",
       "      <td>-1835137722743541453</td>\n",
       "      <td>2016-05-05 23:21:48</td>\n",
       "      <td>117.35</td>\n",
       "      <td>25.96</td>\n",
       "    </tr>\n",
       "  </tbody>\n",
       "</table>\n",
       "<p>250000 rows × 6 columns</p>\n",
       "</div>"
      ],
      "text/plain": [
       "        Unnamed: 0  event_id            device_id            timestamp  \\\n",
       "0                1         2 -6401643145415154744  2016-05-01 00:54:12   \n",
       "1                2         3 -4833982096941402721  2016-05-01 00:08:05   \n",
       "2                3         4 -6815121365017318426  2016-05-01 00:06:40   \n",
       "3                4         5 -5373797595892518570  2016-05-01 00:07:18   \n",
       "4                6         7  5990807147117726237  2016-05-01 00:15:13   \n",
       "...            ...       ...                  ...                  ...   \n",
       "249995      369338    369339 -7683978150618390285  2016-05-05 23:09:37   \n",
       "249996      369339    369340 -7387945516430081335  2016-05-05 23:48:34   \n",
       "249997      369340    369341 -3969281659360747781  2016-05-05 23:45:51   \n",
       "249998      369342    369343  -189903359027977027  2016-05-05 23:21:54   \n",
       "249999      369343    369344 -1835137722743541453  2016-05-05 23:21:48   \n",
       "\n",
       "        longitude  latitude  \n",
       "0          103.65     30.97  \n",
       "1          106.60     29.70  \n",
       "2          104.27     23.28  \n",
       "3          115.88     28.66  \n",
       "4          113.73     23.00  \n",
       "...           ...       ...  \n",
       "249995     114.21     30.67  \n",
       "249996     113.44     34.67  \n",
       "249997     122.99     41.12  \n",
       "249998     116.29     23.29  \n",
       "249999     117.35     25.96  \n",
       "\n",
       "[250000 rows x 6 columns]"
      ]
     },
     "execution_count": 9,
     "metadata": {},
     "output_type": "execute_result"
    }
   ],
   "source": [
    "path = '/Users/thainam/Documents/GitHub/COVID19_VN_MOH_MLmodels/GPS-model-sample/events_250k.csv'\n",
    "data = pd.read_csv(path)\n",
    "\n",
    "data"
   ]
  },
  {
   "cell_type": "code",
   "execution_count": 19,
   "metadata": {
    "scrolled": false
   },
   "outputs": [
    {
     "data": {
      "text/html": [
       "<div>\n",
       "<style scoped>\n",
       "    .dataframe tbody tr th:only-of-type {\n",
       "        vertical-align: middle;\n",
       "    }\n",
       "\n",
       "    .dataframe tbody tr th {\n",
       "        vertical-align: top;\n",
       "    }\n",
       "\n",
       "    .dataframe thead th {\n",
       "        text-align: right;\n",
       "    }\n",
       "</style>\n",
       "<table border=\"1\" class=\"dataframe\">\n",
       "  <thead>\n",
       "    <tr style=\"text-align: right;\">\n",
       "      <th></th>\n",
       "      <th>Unnamed: 0</th>\n",
       "      <th>event_id</th>\n",
       "      <th>device_id</th>\n",
       "      <th>timestamp</th>\n",
       "      <th>longitude</th>\n",
       "      <th>latitude</th>\n",
       "    </tr>\n",
       "  </thead>\n",
       "  <tbody>\n",
       "    <tr>\n",
       "      <th>155058</th>\n",
       "      <td>229086</td>\n",
       "      <td>229087</td>\n",
       "      <td>-9222956879900151005</td>\n",
       "      <td>2016-05-06 15:33:50</td>\n",
       "      <td>113.24</td>\n",
       "      <td>23.19</td>\n",
       "    </tr>\n",
       "    <tr>\n",
       "      <th>155045</th>\n",
       "      <td>229068</td>\n",
       "      <td>229069</td>\n",
       "      <td>-9222956879900151005</td>\n",
       "      <td>2016-05-06 15:34:19</td>\n",
       "      <td>113.24</td>\n",
       "      <td>23.19</td>\n",
       "    </tr>\n",
       "    <tr>\n",
       "      <th>139136</th>\n",
       "      <td>205470</td>\n",
       "      <td>205471</td>\n",
       "      <td>-9222956879900151005</td>\n",
       "      <td>2016-05-06 15:36:46</td>\n",
       "      <td>113.24</td>\n",
       "      <td>23.19</td>\n",
       "    </tr>\n",
       "    <tr>\n",
       "      <th>143336</th>\n",
       "      <td>211710</td>\n",
       "      <td>211711</td>\n",
       "      <td>-9222956879900151005</td>\n",
       "      <td>2016-05-06 21:26:14</td>\n",
       "      <td>113.24</td>\n",
       "      <td>23.19</td>\n",
       "    </tr>\n",
       "    <tr>\n",
       "      <th>196024</th>\n",
       "      <td>289563</td>\n",
       "      <td>289564</td>\n",
       "      <td>-9222956879900151005</td>\n",
       "      <td>2016-05-06 21:26:44</td>\n",
       "      <td>113.24</td>\n",
       "      <td>23.19</td>\n",
       "    </tr>\n",
       "    <tr>\n",
       "      <th>...</th>\n",
       "      <td>...</td>\n",
       "      <td>...</td>\n",
       "      <td>...</td>\n",
       "      <td>...</td>\n",
       "      <td>...</td>\n",
       "      <td>...</td>\n",
       "    </tr>\n",
       "    <tr>\n",
       "      <th>245977</th>\n",
       "      <td>363273</td>\n",
       "      <td>363274</td>\n",
       "      <td>9221586026451102237</td>\n",
       "      <td>2016-05-05 21:30:01</td>\n",
       "      <td>104.23</td>\n",
       "      <td>31.33</td>\n",
       "    </tr>\n",
       "    <tr>\n",
       "      <th>79247</th>\n",
       "      <td>117149</td>\n",
       "      <td>117150</td>\n",
       "      <td>9221586026451102237</td>\n",
       "      <td>2016-05-05 21:40:57</td>\n",
       "      <td>104.23</td>\n",
       "      <td>31.33</td>\n",
       "    </tr>\n",
       "    <tr>\n",
       "      <th>109925</th>\n",
       "      <td>162241</td>\n",
       "      <td>162242</td>\n",
       "      <td>9221586026451102237</td>\n",
       "      <td>2016-05-05 21:41:20</td>\n",
       "      <td>104.23</td>\n",
       "      <td>31.33</td>\n",
       "    </tr>\n",
       "    <tr>\n",
       "      <th>36006</th>\n",
       "      <td>53197</td>\n",
       "      <td>53198</td>\n",
       "      <td>9222355582733155698</td>\n",
       "      <td>2016-05-02 18:43:08</td>\n",
       "      <td>116.42</td>\n",
       "      <td>39.78</td>\n",
       "    </tr>\n",
       "    <tr>\n",
       "      <th>193028</th>\n",
       "      <td>285096</td>\n",
       "      <td>285097</td>\n",
       "      <td>9222355582733155698</td>\n",
       "      <td>2016-05-02 18:44:50</td>\n",
       "      <td>116.42</td>\n",
       "      <td>39.78</td>\n",
       "    </tr>\n",
       "  </tbody>\n",
       "</table>\n",
       "<p>250000 rows × 6 columns</p>\n",
       "</div>"
      ],
      "text/plain": [
       "        Unnamed: 0  event_id            device_id            timestamp  \\\n",
       "155058      229086    229087 -9222956879900151005  2016-05-06 15:33:50   \n",
       "155045      229068    229069 -9222956879900151005  2016-05-06 15:34:19   \n",
       "139136      205470    205471 -9222956879900151005  2016-05-06 15:36:46   \n",
       "143336      211710    211711 -9222956879900151005  2016-05-06 21:26:14   \n",
       "196024      289563    289564 -9222956879900151005  2016-05-06 21:26:44   \n",
       "...            ...       ...                  ...                  ...   \n",
       "245977      363273    363274  9221586026451102237  2016-05-05 21:30:01   \n",
       "79247       117149    117150  9221586026451102237  2016-05-05 21:40:57   \n",
       "109925      162241    162242  9221586026451102237  2016-05-05 21:41:20   \n",
       "36006        53197     53198  9222355582733155698  2016-05-02 18:43:08   \n",
       "193028      285096    285097  9222355582733155698  2016-05-02 18:44:50   \n",
       "\n",
       "        longitude  latitude  \n",
       "155058     113.24     23.19  \n",
       "155045     113.24     23.19  \n",
       "139136     113.24     23.19  \n",
       "143336     113.24     23.19  \n",
       "196024     113.24     23.19  \n",
       "...           ...       ...  \n",
       "245977     104.23     31.33  \n",
       "79247      104.23     31.33  \n",
       "109925     104.23     31.33  \n",
       "36006      116.42     39.78  \n",
       "193028     116.42     39.78  \n",
       "\n",
       "[250000 rows x 6 columns]"
      ]
     },
     "execution_count": 19,
     "metadata": {},
     "output_type": "execute_result"
    }
   ],
   "source": [
    "merge = data.sort_values(by=['device_id', 'timestamp'])\n",
    "merge"
   ]
  },
  {
   "cell_type": "code",
   "execution_count": 20,
   "metadata": {},
   "outputs": [],
   "source": [
    "merge.to_csv('/Users/thainam/Documents/GitHub/COVID19_VN_MOH_MLmodels/GPS-model-sample/sorted.csv', index=False)"
   ]
  },
  {
   "cell_type": "code",
   "execution_count": 23,
   "metadata": {},
   "outputs": [
    {
     "data": {
      "text/plain": [
       "array([['2016-05-06 15:33:50'],\n",
       "       ['2016-05-06 15:34:19'],\n",
       "       ['2016-05-06 15:36:46'],\n",
       "       ...,\n",
       "       ['2016-05-05 21:41:20'],\n",
       "       ['2016-05-02 18:43:08'],\n",
       "       ['2016-05-02 18:44:50']], dtype=object)"
      ]
     },
     "execution_count": 23,
     "metadata": {},
     "output_type": "execute_result"
    }
   ],
   "source": [
    "timestamp = merge.iloc[:, 3:4].values\n",
    "timestamp"
   ]
  },
  {
   "cell_type": "code",
   "execution_count": 25,
   "metadata": {
    "scrolled": true
   },
   "outputs": [
    {
     "data": {
      "text/plain": [
       "array([[-9222956879900151005],\n",
       "       [-9222956879900151005],\n",
       "       [-9222956879900151005],\n",
       "       ...,\n",
       "       [ 9221586026451102237],\n",
       "       [ 9222355582733155698],\n",
       "       [ 9222355582733155698]])"
      ]
     },
     "execution_count": 25,
     "metadata": {},
     "output_type": "execute_result"
    }
   ],
   "source": [
    "device_id = merge.iloc[:, 2:3].values\n",
    "device_id"
   ]
  },
  {
   "cell_type": "code",
   "execution_count": 36,
   "metadata": {},
   "outputs": [],
   "source": [
    "latitude = merge.iloc[:, 5:6].values #y\n",
    "latitude = np.reshape(latitute, len(latitute)).tolist()"
   ]
  },
  {
   "cell_type": "code",
   "execution_count": 28,
   "metadata": {},
   "outputs": [
    {
     "data": {
      "text/plain": [
       "array([[113.24],\n",
       "       [113.24],\n",
       "       [113.24],\n",
       "       ...,\n",
       "       [104.23],\n",
       "       [116.42],\n",
       "       [116.42]])"
      ]
     },
     "execution_count": 28,
     "metadata": {},
     "output_type": "execute_result"
    }
   ],
   "source": [
    "longitude = merge.iloc[:, 4:5].values #x\n",
    "longitude = np.reshape(longitude, len(longtitude))"
   ]
  },
  {
   "cell_type": "code",
   "execution_count": 40,
   "metadata": {},
   "outputs": [],
   "source": [
    "import math\n",
    "\n",
    "distance_arr = []\n",
    "for i in range(1, len(latitude)):\n",
    "    distance = math.sqrt(pow(longitude[i - 1] - longitude[i], 2) + pow(latitude[i - 1] - latitude[i], 2))\n",
    "    distance_arr.append(distance)\n"
   ]
  },
  {
   "cell_type": "code",
   "execution_count": 44,
   "metadata": {},
   "outputs": [
    {
     "data": {
      "text/plain": [
       "<matplotlib.collections.PathCollection at 0x128453610>"
      ]
     },
     "execution_count": 44,
     "metadata": {},
     "output_type": "execute_result"
    },
    {
     "data": {
      "image/png": "[encoded data removed]",
      "text/plain": [
       "<Figure size 1008x720 with 1 Axes>"
      ]
     },
     "metadata": {
      "needs_background": "light"
     },
     "output_type": "display_data"
    }
   ],
   "source": [
    "plt.figure(figsize=(14,10))\n",
    "plt.scatter(longitude, latitude)"
   ]
  },
  {
   "cell_type": "code",
   "execution_count": 56,
   "metadata": {},
   "outputs": [
    {
     "name": "stdout",
     "output_type": "stream",
     "text": [
      "[0.0 0.0 0.0 ... 0.0 None 0.0]\n"
     ]
    }
   ],
   "source": [
    "arr = [0.0]\n",
    "for i in range (1, len(latitude)):\n",
    "    if device_id[i - 1] == device_id[i]:\n",
    "        distance = math.sqrt(pow(longitude[i] - longitude[i - 1], 2) + pow(latitude[i] - latitude[i - 1], 2))\n",
    "        arr.append(distance)\n",
    "    elif device_id[i - 1] != device_id[i]:\n",
    "        arr.append(None)\n",
    "    else:\n",
    "        continue\n",
    "    \n",
    "print(np.array(arr))"
   ]
  },
  {
   "cell_type": "code",
   "execution_count": 73,
   "metadata": {},
   "outputs": [
    {
     "ename": "ValueError",
     "evalue": "all the input array dimensions for the concatenation axis must match exactly, but along dimension 0, the array at index 0 has size 249998 and the array at index 1 has size 250000",
     "output_type": "error",
     "traceback": [
      "\u001b[0;31m---------------------------------------------------------------------------\u001b[0m",
      "\u001b[0;31mValueError\u001b[0m                                Traceback (most recent call last)",
      "\u001b[0;32m<ipython-input-73-372de4b228ac>\u001b[0m in \u001b[0;36m<module>\u001b[0;34m\u001b[0m\n\u001b[1;32m      1\u001b[0m \u001b[0marr\u001b[0m \u001b[0;34m=\u001b[0m \u001b[0mnp\u001b[0m\u001b[0;34m.\u001b[0m\u001b[0marray\u001b[0m\u001b[0;34m(\u001b[0m\u001b[0marr\u001b[0m\u001b[0;34m)\u001b[0m\u001b[0;34m\u001b[0m\u001b[0;34m\u001b[0m\u001b[0m\n\u001b[1;32m      2\u001b[0m \u001b[0marr\u001b[0m \u001b[0;34m=\u001b[0m \u001b[0mnp\u001b[0m\u001b[0;34m.\u001b[0m\u001b[0mreshape\u001b[0m\u001b[0;34m(\u001b[0m\u001b[0marr\u001b[0m\u001b[0;34m,\u001b[0m \u001b[0;34m(\u001b[0m\u001b[0mlen\u001b[0m\u001b[0;34m(\u001b[0m\u001b[0marr\u001b[0m\u001b[0;34m)\u001b[0m\u001b[0;34m,\u001b[0m \u001b[0;36m1\u001b[0m\u001b[0;34m)\u001b[0m\u001b[0;34m)\u001b[0m\u001b[0;34m\u001b[0m\u001b[0;34m\u001b[0m\u001b[0m\n\u001b[0;32m----> 3\u001b[0;31m \u001b[0mmerge\u001b[0m \u001b[0;34m=\u001b[0m \u001b[0mnp\u001b[0m\u001b[0;34m.\u001b[0m\u001b[0mconcatenate\u001b[0m\u001b[0;34m(\u001b[0m\u001b[0;34m(\u001b[0m\u001b[0mmerge\u001b[0m\u001b[0;34m,\u001b[0m \u001b[0mnp\u001b[0m\u001b[0;34m.\u001b[0m\u001b[0marray\u001b[0m\u001b[0;34m(\u001b[0m\u001b[0marr\u001b[0m\u001b[0;34m)\u001b[0m\u001b[0;34m)\u001b[0m\u001b[0;34m,\u001b[0m \u001b[0maxis\u001b[0m\u001b[0;34m=\u001b[0m\u001b[0;36m1\u001b[0m\u001b[0;34m)\u001b[0m\u001b[0;34m\u001b[0m\u001b[0;34m\u001b[0m\u001b[0m\n\u001b[0m\u001b[1;32m      4\u001b[0m \u001b[0mmerge\u001b[0m \u001b[0;34m=\u001b[0m \u001b[0mpd\u001b[0m\u001b[0;34m.\u001b[0m\u001b[0mDataFrame\u001b[0m\u001b[0;34m(\u001b[0m\u001b[0mdata\u001b[0m\u001b[0;34m=\u001b[0m\u001b[0mmerge\u001b[0m\u001b[0;34m)\u001b[0m\u001b[0;34m\u001b[0m\u001b[0;34m\u001b[0m\u001b[0m\n\u001b[1;32m      5\u001b[0m \u001b[0mmerge\u001b[0m\u001b[0;34m.\u001b[0m\u001b[0mhead\u001b[0m\u001b[0;34m(\u001b[0m\u001b[0;34m)\u001b[0m\u001b[0;34m\u001b[0m\u001b[0;34m\u001b[0m\u001b[0m\n",
      "\u001b[0;32m<__array_function__ internals>\u001b[0m in \u001b[0;36mconcatenate\u001b[0;34m(*args, **kwargs)\u001b[0m\n",
      "\u001b[0;31mValueError\u001b[0m: all the input array dimensions for the concatenation axis must match exactly, but along dimension 0, the array at index 0 has size 249998 and the array at index 1 has size 250000"
     ]
    }
   ],
   "source": [
    "arr = np.array(arr)\n",
    "arr = np.reshape(arr, (len(arr), 1))\n",
    "merge = np.concatenate((merge, np.array(arr)), axis=1)\n",
    "merge = pd.DataFrame(data=merge)\n",
    "merge.head()"
   ]
  }
 ],
 "metadata": {
  "kernelspec": {
   "display_name": "Python 3",
   "language": "python",
   "name": "python3"
  },
  "language_info": {
   "codemirror_mode": {
    "name": "ipython",
    "version": 3
   },
   "file_extension": ".py",
   "mimetype": "text/x-python",
   "name": "python",
   "nbconvert_exporter": "python",
   "pygments_lexer": "ipython3",
   "version": "3.7.6"
  }
 },
 "nbformat": 4,
 "nbformat_minor": 4
}
