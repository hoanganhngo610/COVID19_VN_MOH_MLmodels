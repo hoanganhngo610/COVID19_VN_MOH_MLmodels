{
 "cells": [
  {
   "cell_type": "code",
   "execution_count": 1,
   "metadata": {},
   "outputs": [],
   "source": [
    "import pandas as pd"
   ]
  },
  {
   "cell_type": "code",
   "execution_count": 12,
   "metadata": {},
   "outputs": [],
   "source": [
    "df = pd.read_csv('/Users/ngohoanganh/Downloads/events.csv')"
   ]
  },
  {
   "cell_type": "code",
   "execution_count": 13,
   "metadata": {},
   "outputs": [],
   "source": [
    "new_df = df[(df['longitude'] > 80) & (df['latitude'] > 18)]"
   ]
  },
  {
   "cell_type": "code",
   "execution_count": 14,
   "metadata": {},
   "outputs": [
    {
     "data": {
      "text/html": [
       "<div>\n",
       "<style scoped>\n",
       "    .dataframe tbody tr th:only-of-type {\n",
       "        vertical-align: middle;\n",
       "    }\n",
       "\n",
       "    .dataframe tbody tr th {\n",
       "        vertical-align: top;\n",
       "    }\n",
       "\n",
       "    .dataframe thead th {\n",
       "        text-align: right;\n",
       "    }\n",
       "</style>\n",
       "<table border=\"1\" class=\"dataframe\">\n",
       "  <thead>\n",
       "    <tr style=\"text-align: right;\">\n",
       "      <th></th>\n",
       "      <th>event_id</th>\n",
       "      <th>device_id</th>\n",
       "      <th>longitude</th>\n",
       "      <th>latitude</th>\n",
       "    </tr>\n",
       "  </thead>\n",
       "  <tbody>\n",
       "    <tr>\n",
       "      <th>count</th>\n",
       "      <td>2.202143e+06</td>\n",
       "      <td>2.202143e+06</td>\n",
       "      <td>2.202143e+06</td>\n",
       "      <td>2.202143e+06</td>\n",
       "    </tr>\n",
       "    <tr>\n",
       "      <th>mean</th>\n",
       "      <td>1.626314e+06</td>\n",
       "      <td>-6.463036e+16</td>\n",
       "      <td>1.151002e+02</td>\n",
       "      <td>3.188600e+01</td>\n",
       "    </tr>\n",
       "    <tr>\n",
       "      <th>std</th>\n",
       "      <td>9.392544e+05</td>\n",
       "      <td>5.287758e+18</td>\n",
       "      <td>5.827468e+00</td>\n",
       "      <td>6.090890e+00</td>\n",
       "    </tr>\n",
       "    <tr>\n",
       "      <th>min</th>\n",
       "      <td>1.000000e+00</td>\n",
       "      <td>-9.222957e+18</td>\n",
       "      <td>8.026000e+01</td>\n",
       "      <td>1.821000e+01</td>\n",
       "    </tr>\n",
       "    <tr>\n",
       "      <th>25%</th>\n",
       "      <td>8.126125e+05</td>\n",
       "      <td>-4.674446e+18</td>\n",
       "      <td>1.127500e+02</td>\n",
       "      <td>2.780000e+01</td>\n",
       "    </tr>\n",
       "    <tr>\n",
       "      <th>50%</th>\n",
       "      <td>1.626381e+06</td>\n",
       "      <td>-4.820255e+16</td>\n",
       "      <td>1.158300e+02</td>\n",
       "      <td>3.126000e+01</td>\n",
       "    </tr>\n",
       "    <tr>\n",
       "      <th>75%</th>\n",
       "      <td>2.439853e+06</td>\n",
       "      <td>4.505543e+18</td>\n",
       "      <td>1.193000e+02</td>\n",
       "      <td>3.661000e+01</td>\n",
       "    </tr>\n",
       "    <tr>\n",
       "      <th>max</th>\n",
       "      <td>3.252950e+06</td>\n",
       "      <td>9.222356e+18</td>\n",
       "      <td>1.397700e+02</td>\n",
       "      <td>5.233000e+01</td>\n",
       "    </tr>\n",
       "  </tbody>\n",
       "</table>\n",
       "</div>"
      ],
      "text/plain": [
       "           event_id     device_id     longitude      latitude\n",
       "count  2.202143e+06  2.202143e+06  2.202143e+06  2.202143e+06\n",
       "mean   1.626314e+06 -6.463036e+16  1.151002e+02  3.188600e+01\n",
       "std    9.392544e+05  5.287758e+18  5.827468e+00  6.090890e+00\n",
       "min    1.000000e+00 -9.222957e+18  8.026000e+01  1.821000e+01\n",
       "25%    8.126125e+05 -4.674446e+18  1.127500e+02  2.780000e+01\n",
       "50%    1.626381e+06 -4.820255e+16  1.158300e+02  3.126000e+01\n",
       "75%    2.439853e+06  4.505543e+18  1.193000e+02  3.661000e+01\n",
       "max    3.252950e+06  9.222356e+18  1.397700e+02  5.233000e+01"
      ]
     },
     "execution_count": 14,
     "metadata": {},
     "output_type": "execute_result"
    }
   ],
   "source": [
    "new_df.describe()"
   ]
  },
  {
   "cell_type": "code",
   "execution_count": 15,
   "metadata": {},
   "outputs": [],
   "source": [
    "new_df = new_df[1:250001]"
   ]
  },
  {
   "cell_type": "code",
   "execution_count": 17,
   "metadata": {},
   "outputs": [
    {
     "data": {
      "text/html": [
       "<div>\n",
       "<style scoped>\n",
       "    .dataframe tbody tr th:only-of-type {\n",
       "        vertical-align: middle;\n",
       "    }\n",
       "\n",
       "    .dataframe tbody tr th {\n",
       "        vertical-align: top;\n",
       "    }\n",
       "\n",
       "    .dataframe thead th {\n",
       "        text-align: right;\n",
       "    }\n",
       "</style>\n",
       "<table border=\"1\" class=\"dataframe\">\n",
       "  <thead>\n",
       "    <tr style=\"text-align: right;\">\n",
       "      <th></th>\n",
       "      <th>event_id</th>\n",
       "      <th>device_id</th>\n",
       "      <th>longitude</th>\n",
       "      <th>latitude</th>\n",
       "    </tr>\n",
       "  </thead>\n",
       "  <tbody>\n",
       "    <tr>\n",
       "      <th>count</th>\n",
       "      <td>250000.000000</td>\n",
       "      <td>2.500000e+05</td>\n",
       "      <td>250000.000000</td>\n",
       "      <td>250000.000000</td>\n",
       "    </tr>\n",
       "    <tr>\n",
       "      <th>mean</th>\n",
       "      <td>184648.275588</td>\n",
       "      <td>-4.641367e+16</td>\n",
       "      <td>115.120874</td>\n",
       "      <td>31.898079</td>\n",
       "    </tr>\n",
       "    <tr>\n",
       "      <th>std</th>\n",
       "      <td>106582.873607</td>\n",
       "      <td>5.284665e+18</td>\n",
       "      <td>5.831755</td>\n",
       "      <td>6.094276</td>\n",
       "    </tr>\n",
       "    <tr>\n",
       "      <th>min</th>\n",
       "      <td>2.000000</td>\n",
       "      <td>-9.222957e+18</td>\n",
       "      <td>80.270000</td>\n",
       "      <td>18.210000</td>\n",
       "    </tr>\n",
       "    <tr>\n",
       "      <th>25%</th>\n",
       "      <td>92447.750000</td>\n",
       "      <td>-4.646087e+18</td>\n",
       "      <td>112.810000</td>\n",
       "      <td>27.820000</td>\n",
       "    </tr>\n",
       "    <tr>\n",
       "      <th>50%</th>\n",
       "      <td>184674.500000</td>\n",
       "      <td>-2.507954e+16</td>\n",
       "      <td>115.850000</td>\n",
       "      <td>31.270000</td>\n",
       "    </tr>\n",
       "    <tr>\n",
       "      <th>75%</th>\n",
       "      <td>276903.500000</td>\n",
       "      <td>4.517851e+18</td>\n",
       "      <td>119.320000</td>\n",
       "      <td>36.620000</td>\n",
       "    </tr>\n",
       "    <tr>\n",
       "      <th>max</th>\n",
       "      <td>369344.000000</td>\n",
       "      <td>9.222356e+18</td>\n",
       "      <td>139.680000</td>\n",
       "      <td>51.560000</td>\n",
       "    </tr>\n",
       "  </tbody>\n",
       "</table>\n",
       "</div>"
      ],
      "text/plain": [
       "            event_id     device_id      longitude       latitude\n",
       "count  250000.000000  2.500000e+05  250000.000000  250000.000000\n",
       "mean   184648.275588 -4.641367e+16     115.120874      31.898079\n",
       "std    106582.873607  5.284665e+18       5.831755       6.094276\n",
       "min         2.000000 -9.222957e+18      80.270000      18.210000\n",
       "25%     92447.750000 -4.646087e+18     112.810000      27.820000\n",
       "50%    184674.500000 -2.507954e+16     115.850000      31.270000\n",
       "75%    276903.500000  4.517851e+18     119.320000      36.620000\n",
       "max    369344.000000  9.222356e+18     139.680000      51.560000"
      ]
     },
     "execution_count": 17,
     "metadata": {},
     "output_type": "execute_result"
    }
   ],
   "source": [
    "new_df.describe()"
   ]
  },
  {
   "cell_type": "code",
   "execution_count": 16,
   "metadata": {},
   "outputs": [],
   "source": [
    "new_df.to_csv('/Users/ngohoanganh/Downloads/events_250k.csv')"
   ]
  },
  {
   "cell_type": "code",
   "execution_count": null,
   "metadata": {},
   "outputs": [],
   "source": []
  }
 ],
 "metadata": {
  "kernelspec": {
   "display_name": "Python 3",
   "language": "python",
   "name": "python3"
  },
  "language_info": {
   "codemirror_mode": {
    "name": "ipython",
    "version": 3
   },
   "file_extension": ".py",
   "mimetype": "text/x-python",
   "name": "python",
   "nbconvert_exporter": "python",
   "pygments_lexer": "ipython3",
   "version": "3.7.3"
  }
 },
 "nbformat": 4,
 "nbformat_minor": 2
}
